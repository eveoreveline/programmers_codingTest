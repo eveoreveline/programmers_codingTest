{
 "cells": [
  {
   "cell_type": "markdown",
   "metadata": {},
   "source": [
    "### 방법 1\n",
    "체육복을 다른 학생들에게 빌려줄 확률"
   ]
  },
  {
   "cell_type": "code",
   "execution_count": null,
   "metadata": {},
   "outputs": [],
   "source": [
    "def solution(n, lost, reserve):\n",
    "    u = [1] * (n + 2)\n",
    "    for i in reserve: # reserve라는 리스트의 길이에 비례하는 루프\n",
    "        u[i] += 1 \n",
    "    for i in lost: # lost라는 리스트의 길이에 비례하여 루프\n",
    "        u[i] -= 1\n",
    "    for i in range(1, n + 1): # \n",
    "        if u[i - 1] == 0 and u[i] == 2: # 앞 사람에게 빌려줄 수 있는지 여부\n",
    "            u[i - 1: i + 1] == [1, 1]\n",
    "        elif u[i] == 2 and u[i + 1] == 0: # 뒷 사람에게 빌려줄 수 있는지 여부\n",
    "           u[i:i + 2] = [1, 1]\n",
    "    return len([x for x in u[1:-1] if x > 0])"
   ]
  },
  {
   "cell_type": "markdown",
   "metadata": {},
   "source": [
    "### 방법 2\n",
    "원래는 set에서도 계산식이 필요함."
   ]
  },
  {
   "cell_type": "code",
   "execution_count": null,
   "metadata": {},
   "outputs": [],
   "source": [
    "def solution(n, lost, reserve):\n",
    "    s = set(lost) & set(reserve) # 체육복을 가져왔는데 도난당한 학생 = 체육복 1개 남음\n",
    "    l = set(lost) - s # 체육복을 빌려야 하는 학생 (안 가져왔거나 도난당함) = 체육복 0개 남음\n",
    "    r = set(reserve) - s # 체육복을 가져오고 도난 안 당한 학생 = 체육복 2개 남음\n",
    "    for x in sorted(r): # r의 학생들을 번호 순서에 따라 정렬하는 루프\n",
    "        if x - 1 in 1: # 내 앞의 학생이 체육복을 빌려야 하는 학생 => 학생 제외\n",
    "            l.remove(x - 1)\n",
    "        elif x + 1 in l: # 내 뒤의 학생이 체육복을 빌려야 하는 학생 => 학생 제외\n",
    "            l.remove(x + 1)\n",
    "    return n - len(l) # l에 남은 학생들은 체육복을 빌려야 하는데 빌리지 못한 학생."
   ]
  }
 ],
 "metadata": {
  "kernelspec": {
   "display_name": "Python 3.10.8 64-bit",
   "language": "python",
   "name": "python3"
  },
  "language_info": {
   "name": "python",
   "version": "3.10.8"
  },
  "orig_nbformat": 4,
  "vscode": {
   "interpreter": {
    "hash": "aee8b7b246df8f9039afb4144a1f6fd8d2ca17a180786b69acc140d282b71a49"
   }
  }
 },
 "nbformat": 4,
 "nbformat_minor": 2
}
