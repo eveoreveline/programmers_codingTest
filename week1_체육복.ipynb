{
 "cells": [
  {
   "cell_type": "code",
   "execution_count": null,
   "metadata": {},
   "outputs": [],
   "source": [
    "def solution(n, lost, reserve):\n",
    "    u = [1] * (n + 2)\n",
    "    for i in reserve: # reserve라는 리스트의 길이에 비례하는 루프\n",
    "        u[i] += 1 \n",
    "    for i in lost: # lost라는 리스트의 길이에 비례하여 루프\n",
    "        u[i] -= 1\n",
    "    for i in range(1, n + 1): # \n",
    "        if u[i - 1] == 0 and u[i] == 2: # 앞 사람에게 빌려줄 수 있는지 여부\n",
    "            u[i - 1: i + 1] == [1, 1]\n",
    "        elif u[i] == 2 and u[i + 1] == 0: # 뒷 사람에게 빌려줄 수 있는지 여부\n",
    "           u[i:i + 2] = [1, 1]\n",
    "    return len([x for x in u[1:-1] if x > 0])"
   ]
  }
 ],
 "metadata": {
  "language_info": {
   "name": "python"
  },
  "orig_nbformat": 4
 },
 "nbformat": 4,
 "nbformat_minor": 2
}
